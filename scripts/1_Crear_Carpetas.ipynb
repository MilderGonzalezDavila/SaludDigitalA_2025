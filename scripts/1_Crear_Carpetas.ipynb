{
 "cells": [
  {
   "cell_type": "markdown",
   "id": "c62a07b3",
   "metadata": {},
   "source": [
    "# Creación de carpetas en tiempo de ejecución"
   ]
  },
  {
   "cell_type": "code",
   "execution_count": 1,
   "id": "3ca6ba18",
   "metadata": {},
   "outputs": [
    {
     "name": "stdout",
     "output_type": "stream",
     "text": [
      "Carpeta 'data' lista en c:\\Users\\MilderGonzalez\\documents\\SaludDigitalA_2025\\scripts\\..\\data\n",
      "Carpeta 'database' lista en c:\\Users\\MilderGonzalez\\documents\\SaludDigitalA_2025\\scripts\\..\\database\n",
      "Carpeta 'reports' lista en c:\\Users\\MilderGonzalez\\documents\\SaludDigitalA_2025\\scripts\\..\\reports\n",
      "Carpeta 'ci' lista en c:\\Users\\MilderGonzalez\\documents\\SaludDigitalA_2025\\scripts\\..\\ci\n",
      "Carpeta 'git' lista en c:\\Users\\MilderGonzalez\\documents\\SaludDigitalA_2025\\scripts\\..\\git\n"
     ]
    }
   ],
   "source": [
    "# Fase 1: Creación de carpetas\n",
    "from pathlib import Path\n",
    "\n",
    "# Rutas de carpetas del proyecto\n",
    "carpetas = [\"data\", \"database\", \"reports\", \"ci\", \"git\"]\n",
    "\n",
    "for carpeta in carpetas:\n",
    "    ruta = Path.cwd() / f\"../{carpeta}\"\n",
    "    ruta.mkdir(parents=True, exist_ok=True)\n",
    "    print(f\"Carpeta '{carpeta}' lista en {ruta}\")"
   ]
  },
  {
   "cell_type": "code",
   "execution_count": null,
   "id": "f52d3c43",
   "metadata": {},
   "outputs": [],
   "source": []
  }
 ],
 "metadata": {
  "kernelspec": {
   "display_name": "myenv (3.13.7)",
   "language": "python",
   "name": "python3"
  },
  "language_info": {
   "codemirror_mode": {
    "name": "ipython",
    "version": 3
   },
   "file_extension": ".py",
   "mimetype": "text/x-python",
   "name": "python",
   "nbconvert_exporter": "python",
   "pygments_lexer": "ipython3",
   "version": "3.13.7"
  }
 },
 "nbformat": 4,
 "nbformat_minor": 5
}
