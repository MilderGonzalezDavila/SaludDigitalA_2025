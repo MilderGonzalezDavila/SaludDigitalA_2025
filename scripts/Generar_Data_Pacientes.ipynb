{
 "cells": [
  {
   "cell_type": "markdown",
   "id": "9799ec10",
   "metadata": {},
   "source": [
    "# Generando  los datos de los pacientes"
   ]
  },
  {
   "cell_type": "code",
   "execution_count": 2,
   "id": "f01675b7",
   "metadata": {},
   "outputs": [
    {
     "name": "stdout",
     "output_type": "stream",
     "text": [
      "Archivo generado correctamente en: c:\\Users\\MilderGonzalez\\documents\\SaludDigitalA_2025\\scripts\\..\\data\\pacientes.csv\n",
      "Total de registros: 3000\n"
     ]
    }
   ],
   "source": [
    "#Fase 3: Generar 3000 registros de pacientes con campos nulos/NA\n",
    "from pathlib import Path\n",
    "import csv\n",
    "import random\n",
    "from datetime import datetime, timedelta\n",
    "\n",
    "#1. Crear carpeta \"data\" si no existe\n",
    "data_path = Path.cwd() / \"../data\"\n",
    "data_path.mkdir(parents=True, exist_ok=True)\n",
    "\n",
    "#2. Definir archivo CSV\n",
    "csv_file = data_path / \"pacientes.csv\"\n",
    "\n",
    "#3. Listas base de datos simulados\n",
    "servicios = [\"Odontología\", \"Pediatría\", \"Cardiología\", \"Dermatología\", \"NA\"]\n",
    "distritos = [\"Miraflores\", \"Surco\", \"San Isidro\", \"La Molina\", \"Lince\", \"Callao\", \"Cajamarca\"]\n",
    "sexos = [\"M\", \"F\", \"NA\"]\n",
    "\n",
    "#4. Generar fecha aleatoria\n",
    "def generar_fecha():\n",
    "    inicio = datetime(2020, 1, 1)\n",
    "    fin = datetime(2025, 1, 1)\n",
    "    delta = fin - inicio\n",
    "    fecha_random = inicio + timedelta(days=random.randint(0, delta.days))\n",
    "    return fecha_random.strftime(\"%Y-%m-%d\")\n",
    "\n",
    "#5. Generar 3000 registros simulados (incluyendo nulos/NA)\n",
    "registros = []\n",
    "for i in range(1, 3001):\n",
    "    id_paciente = f\"P{str(i).zfill(3)}\"\n",
    "    nombre = f\"Paciente {random.choice(['Ana', 'Luis', 'Maria', 'Juan', ''])} {random.choice(['Torres', 'Pérez', 'García', ''])}\"  # Posibles vacíos\n",
    "    edad = random.randint(1, 90) if random.random() > 0.05 else None  # 5% nulos\n",
    "    sexo = random.choice(sexos)\n",
    "    distrito = random.choice(distritos)\n",
    "    servicio = random.choice(servicios)\n",
    "    fecha_atencion = generar_fecha() if random.random() > 0.05 else \"\"  # 5% vacíos\n",
    "    monto = round(random.uniform(50, 500), 2) if random.random() > 0.05 else None  # 5% nulos\n",
    "    registros.append([id_paciente, nombre, edad, sexo, distrito, servicio, fecha_atencion, monto])\n",
    "\n",
    "#6. Escribir en el archivo CSV\n",
    "with open(csv_file, mode=\"w\", newline=\"\", encoding=\"utf-8\") as file:\n",
    "    writer = csv.writer(file)\n",
    "    writer.writerow([\"id_paciente\", \"nombre\", \"edad\", \"sexo\", \"Distrito\", \"servicio\", \"fecha_atencion\", \"monto\"])\n",
    "    writer.writerows(registros)\n",
    "\n",
    "print(f\"Archivo generado correctamente en: {csv_file}\")\n",
    "print(f\"Total de registros: {len(registros)}\")"
   ]
  },
  {
   "cell_type": "code",
   "execution_count": null,
   "id": "bceb68cb",
   "metadata": {},
   "outputs": [],
   "source": []
  }
 ],
 "metadata": {
  "kernelspec": {
   "display_name": "myenv (3.13.7)",
   "language": "python",
   "name": "python3"
  },
  "language_info": {
   "codemirror_mode": {
    "name": "ipython",
    "version": 3
   },
   "file_extension": ".py",
   "mimetype": "text/x-python",
   "name": "python",
   "nbconvert_exporter": "python",
   "pygments_lexer": "ipython3",
   "version": "3.13.7"
  }
 },
 "nbformat": 4,
 "nbformat_minor": 5
}
