{
 "cells": [
  {
   "cell_type": "markdown",
   "id": "35e2dcfb",
   "metadata": {},
   "source": [
    "# Creación de la estructura\n",
    "Generar un archivo base CSV (base.csv) con la estructura indicada."
   ]
  },
  {
   "cell_type": "code",
   "execution_count": 4,
   "id": "e401b60a",
   "metadata": {},
   "outputs": [
    {
     "name": "stdout",
     "output_type": "stream",
     "text": [
      "Archivo 'pacientes.csv' creado correctamente.\n"
     ]
    }
   ],
   "source": [
    "#Fase 2: Crear archivo base base.csv automáticamente\n",
    "from pathlib import Path\n",
    "\n",
    "# Crear carpeta data\n",
    "data_path = Path.cwd() / \"../data\"\n",
    "data_path.mkdir(parents=True, exist_ok=True)\n",
    "\n",
    "# Crear archivo CSV base\n",
    "archivo_csv = data_path / \"pacientes.csv\"\n",
    "if not archivo_csv.exists():\n",
    "    with open(archivo_csv, \"w\", encoding=\"utf-8\") as f:\n",
    "        f.write(\"id_paciente,nombre,edad,sexo,Distrito,servicio,fecha_atencion,monto\\n\")\n",
    "    print(\"Archivo 'pacientes.csv' creado correctamente.\")\n",
    "else:\n",
    "    print(\"El archivo 'pacientes.csv' ya existe.\")"
   ]
  },
  {
   "cell_type": "code",
   "execution_count": null,
   "id": "44c97bce",
   "metadata": {},
   "outputs": [],
   "source": []
  }
 ],
 "metadata": {
  "kernelspec": {
   "display_name": "myenv (3.13.7)",
   "language": "python",
   "name": "python3"
  },
  "language_info": {
   "codemirror_mode": {
    "name": "ipython",
    "version": 3
   },
   "file_extension": ".py",
   "mimetype": "text/x-python",
   "name": "python",
   "nbconvert_exporter": "python",
   "pygments_lexer": "ipython3",
   "version": "3.13.7"
  }
 },
 "nbformat": 4,
 "nbformat_minor": 5
}
